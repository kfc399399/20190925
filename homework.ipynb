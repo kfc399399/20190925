{
 "cells": [
  {
   "cell_type": "code",
   "execution_count": null,
   "metadata": {},
   "outputs": [],
   "source": [
    "for i in range(1,10):\n",
    "    for j in range(1,10):\n",
    "        print(\"%d*%d=%2d\" % (i,j,i*j),end=\" \")\n",
    "    print(\"\")"
   ]
  },
  {
   "cell_type": "code",
   "execution_count": null,
   "metadata": {},
   "outputs": [],
   "source": [
    "sum = 0\n",
    "n = int(input(\"請輸入: \"))\n",
    "for i in range(1, n+1):\n",
    "    sum += i\n",
    "\n",
    "print(\"1到 {0} 的整數和是 {1}\".format(n, sum))"
   ]
  },
  {
   "cell_type": "code",
   "execution_count": null,
   "metadata": {},
   "outputs": [],
   "source": [
    "weight = eval(input(\"請輸入體重(公斤): \"))\n",
    "#提示使用者輸入身高\n",
    "height = eval(input(\"請輸入身高(公分): \"))\n",
    "\n",
    "#計算BMI\n",
    "weightInKilograms = weight\n",
    "heightInMeters = height / 100\n",
    "bmi = weightInKilograms / ( heightInMeters ** 2 )\n",
    "#顯示結果\n",
    "print(\"BMI is\", format(bmi, \".2f\"))\n",
    "if bmi < 18.5:\n",
    "    print(\"體重不足\")\n",
    "elif bmi < 25:\n",
    "    print(\"正常\")\n",
    "elif bmi < 30:\n",
    "    print(\"過重\")\n",
    "else:\n",
    "    print(\"肥胖\")"
   ]
  },
  {
   "cell_type": "code",
   "execution_count": null,
   "metadata": {},
   "outputs": [],
   "source": []
  }
 ],
 "metadata": {
  "kernelspec": {
   "display_name": "Python 3",
   "language": "python",
   "name": "python3"
  },
  "language_info": {
   "codemirror_mode": {
    "name": "ipython",
    "version": 3
   },
   "file_extension": ".py",
   "mimetype": "text/x-python",
   "name": "python",
   "nbconvert_exporter": "python",
   "pygments_lexer": "ipython3",
   "version": "3.7.3"
  }
 },
 "nbformat": 4,
 "nbformat_minor": 2
}
